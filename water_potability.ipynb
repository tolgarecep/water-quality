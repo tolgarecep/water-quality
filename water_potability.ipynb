{
 "cells": [
  {
   "cell_type": "code",
   "execution_count": 1,
   "metadata": {},
   "outputs": [],
   "source": [
    "import pandas as pd\n",
    "import numpy as np\n",
    "import matplotlib.pyplot as plt\n",
    "import seaborn as sns\n",
    "sns.set_style('darkgrid')\n",
    "# and will use scikit-learn & scipy"
   ]
  },
  {
   "cell_type": "code",
   "execution_count": 2,
   "metadata": {},
   "outputs": [
    {
     "data": {
      "text/html": [
       "<div>\n",
       "<style scoped>\n",
       "    .dataframe tbody tr th:only-of-type {\n",
       "        vertical-align: middle;\n",
       "    }\n",
       "\n",
       "    .dataframe tbody tr th {\n",
       "        vertical-align: top;\n",
       "    }\n",
       "\n",
       "    .dataframe thead th {\n",
       "        text-align: right;\n",
       "    }\n",
       "</style>\n",
       "<table border=\"1\" class=\"dataframe\">\n",
       "  <thead>\n",
       "    <tr style=\"text-align: right;\">\n",
       "      <th></th>\n",
       "      <th>ph</th>\n",
       "      <th>Hardness</th>\n",
       "      <th>Solids</th>\n",
       "      <th>Chloramines</th>\n",
       "      <th>Sulfate</th>\n",
       "      <th>Conductivity</th>\n",
       "      <th>Organic_carbon</th>\n",
       "      <th>Trihalomethanes</th>\n",
       "      <th>Turbidity</th>\n",
       "      <th>Potability</th>\n",
       "    </tr>\n",
       "  </thead>\n",
       "  <tbody>\n",
       "    <tr>\n",
       "      <th>0</th>\n",
       "      <td>5.744068</td>\n",
       "      <td>173.850882</td>\n",
       "      <td>28391.998185</td>\n",
       "      <td>7.017330</td>\n",
       "      <td>355.461589</td>\n",
       "      <td>336.061803</td>\n",
       "      <td>16.895180</td>\n",
       "      <td>65.447362</td>\n",
       "      <td>3.171655</td>\n",
       "      <td>0</td>\n",
       "    </tr>\n",
       "    <tr>\n",
       "      <th>1</th>\n",
       "      <td>5.019985</td>\n",
       "      <td>156.970822</td>\n",
       "      <td>19272.704481</td>\n",
       "      <td>6.184710</td>\n",
       "      <td>331.559845</td>\n",
       "      <td>341.357160</td>\n",
       "      <td>16.196573</td>\n",
       "      <td>75.302598</td>\n",
       "      <td>4.089485</td>\n",
       "      <td>0</td>\n",
       "    </tr>\n",
       "    <tr>\n",
       "      <th>2</th>\n",
       "      <td>8.528292</td>\n",
       "      <td>227.686207</td>\n",
       "      <td>27352.343415</td>\n",
       "      <td>7.676323</td>\n",
       "      <td>349.995746</td>\n",
       "      <td>388.137754</td>\n",
       "      <td>12.611736</td>\n",
       "      <td>80.186071</td>\n",
       "      <td>4.596924</td>\n",
       "      <td>0</td>\n",
       "    </tr>\n",
       "    <tr>\n",
       "      <th>3</th>\n",
       "      <td>1.431782</td>\n",
       "      <td>228.130383</td>\n",
       "      <td>12937.246891</td>\n",
       "      <td>6.214773</td>\n",
       "      <td>319.734136</td>\n",
       "      <td>495.379883</td>\n",
       "      <td>12.033344</td>\n",
       "      <td>61.141119</td>\n",
       "      <td>4.948443</td>\n",
       "      <td>0</td>\n",
       "    </tr>\n",
       "    <tr>\n",
       "      <th>4</th>\n",
       "      <td>NaN</td>\n",
       "      <td>166.913991</td>\n",
       "      <td>24037.510490</td>\n",
       "      <td>7.136713</td>\n",
       "      <td>349.885276</td>\n",
       "      <td>411.478461</td>\n",
       "      <td>9.456473</td>\n",
       "      <td>94.901122</td>\n",
       "      <td>3.743704</td>\n",
       "      <td>1</td>\n",
       "    </tr>\n",
       "  </tbody>\n",
       "</table>\n",
       "</div>"
      ],
      "text/plain": [
       "         ph    Hardness        Solids  Chloramines     Sulfate  Conductivity  \\\n",
       "0  5.744068  173.850882  28391.998185     7.017330  355.461589    336.061803   \n",
       "1  5.019985  156.970822  19272.704481     6.184710  331.559845    341.357160   \n",
       "2  8.528292  227.686207  27352.343415     7.676323  349.995746    388.137754   \n",
       "3  1.431782  228.130383  12937.246891     6.214773  319.734136    495.379883   \n",
       "4       NaN  166.913991  24037.510490     7.136713  349.885276    411.478461   \n",
       "\n",
       "   Organic_carbon  Trihalomethanes  Turbidity  Potability  \n",
       "0       16.895180        65.447362   3.171655           0  \n",
       "1       16.196573        75.302598   4.089485           0  \n",
       "2       12.611736        80.186071   4.596924           0  \n",
       "3       12.033344        61.141119   4.948443           0  \n",
       "4        9.456473        94.901122   3.743704           1  "
      ]
     },
     "execution_count": 2,
     "metadata": {},
     "output_type": "execute_result"
    }
   ],
   "source": [
    "water = pd.read_csv('water_potability.csv')\n",
    "water = water.sample(frac=1).reset_index(drop=True)\n",
    "water.head()"
   ]
  },
  {
   "cell_type": "markdown",
   "metadata": {},
   "source": [
    "Handling missing data by simply dropping the samples with any NaN value"
   ]
  },
  {
   "cell_type": "code",
   "execution_count": 3,
   "metadata": {},
   "outputs": [],
   "source": [
    "water.dropna(axis=0, inplace=True)"
   ]
  },
  {
   "cell_type": "markdown",
   "metadata": {},
   "source": [
    "Now I will reserve some part of the data as test set to use it in final evaluation "
   ]
  },
  {
   "cell_type": "code",
   "execution_count": 4,
   "metadata": {},
   "outputs": [
    {
     "data": {
      "text/html": [
       "<div>\n",
       "<style scoped>\n",
       "    .dataframe tbody tr th:only-of-type {\n",
       "        vertical-align: middle;\n",
       "    }\n",
       "\n",
       "    .dataframe tbody tr th {\n",
       "        vertical-align: top;\n",
       "    }\n",
       "\n",
       "    .dataframe thead th {\n",
       "        text-align: right;\n",
       "    }\n",
       "</style>\n",
       "<table border=\"1\" class=\"dataframe\">\n",
       "  <thead>\n",
       "    <tr style=\"text-align: right;\">\n",
       "      <th></th>\n",
       "      <th>ph</th>\n",
       "      <th>Hardness</th>\n",
       "      <th>Solids</th>\n",
       "      <th>Chloramines</th>\n",
       "      <th>Sulfate</th>\n",
       "      <th>Conductivity</th>\n",
       "      <th>Organic_carbon</th>\n",
       "      <th>Trihalomethanes</th>\n",
       "      <th>Turbidity</th>\n",
       "      <th>Potability</th>\n",
       "    </tr>\n",
       "  </thead>\n",
       "  <tbody>\n",
       "    <tr>\n",
       "      <th>1631</th>\n",
       "      <td>7.703357</td>\n",
       "      <td>211.344687</td>\n",
       "      <td>12861.946542</td>\n",
       "      <td>9.245306</td>\n",
       "      <td>347.630834</td>\n",
       "      <td>598.662877</td>\n",
       "      <td>10.542342</td>\n",
       "      <td>91.118698</td>\n",
       "      <td>4.732125</td>\n",
       "      <td>0</td>\n",
       "    </tr>\n",
       "    <tr>\n",
       "      <th>1609</th>\n",
       "      <td>5.729303</td>\n",
       "      <td>162.857585</td>\n",
       "      <td>34573.678786</td>\n",
       "      <td>5.654856</td>\n",
       "      <td>415.287072</td>\n",
       "      <td>297.631365</td>\n",
       "      <td>13.990842</td>\n",
       "      <td>76.744677</td>\n",
       "      <td>3.556395</td>\n",
       "      <td>1</td>\n",
       "    </tr>\n",
       "    <tr>\n",
       "      <th>2824</th>\n",
       "      <td>9.130769</td>\n",
       "      <td>266.744959</td>\n",
       "      <td>9929.194810</td>\n",
       "      <td>6.011964</td>\n",
       "      <td>352.153214</td>\n",
       "      <td>542.806782</td>\n",
       "      <td>10.974207</td>\n",
       "      <td>65.782453</td>\n",
       "      <td>4.771444</td>\n",
       "      <td>1</td>\n",
       "    </tr>\n",
       "    <tr>\n",
       "      <th>685</th>\n",
       "      <td>8.490572</td>\n",
       "      <td>204.123648</td>\n",
       "      <td>22989.796390</td>\n",
       "      <td>8.270793</td>\n",
       "      <td>358.847115</td>\n",
       "      <td>435.000898</td>\n",
       "      <td>17.084246</td>\n",
       "      <td>62.421637</td>\n",
       "      <td>3.875557</td>\n",
       "      <td>0</td>\n",
       "    </tr>\n",
       "    <tr>\n",
       "      <th>2692</th>\n",
       "      <td>5.331940</td>\n",
       "      <td>194.874065</td>\n",
       "      <td>16658.876503</td>\n",
       "      <td>7.993830</td>\n",
       "      <td>316.675162</td>\n",
       "      <td>335.120398</td>\n",
       "      <td>10.180514</td>\n",
       "      <td>59.572714</td>\n",
       "      <td>4.434820</td>\n",
       "      <td>0</td>\n",
       "    </tr>\n",
       "    <tr>\n",
       "      <th>...</th>\n",
       "      <td>...</td>\n",
       "      <td>...</td>\n",
       "      <td>...</td>\n",
       "      <td>...</td>\n",
       "      <td>...</td>\n",
       "      <td>...</td>\n",
       "      <td>...</td>\n",
       "      <td>...</td>\n",
       "      <td>...</td>\n",
       "      <td>...</td>\n",
       "    </tr>\n",
       "    <tr>\n",
       "      <th>2752</th>\n",
       "      <td>6.448931</td>\n",
       "      <td>240.244771</td>\n",
       "      <td>13979.165723</td>\n",
       "      <td>9.077985</td>\n",
       "      <td>314.590477</td>\n",
       "      <td>473.751302</td>\n",
       "      <td>17.416903</td>\n",
       "      <td>84.024786</td>\n",
       "      <td>3.622196</td>\n",
       "      <td>1</td>\n",
       "    </tr>\n",
       "    <tr>\n",
       "      <th>3115</th>\n",
       "      <td>5.967274</td>\n",
       "      <td>187.085084</td>\n",
       "      <td>30846.585474</td>\n",
       "      <td>7.281106</td>\n",
       "      <td>339.063715</td>\n",
       "      <td>323.962695</td>\n",
       "      <td>12.651854</td>\n",
       "      <td>72.273590</td>\n",
       "      <td>3.914544</td>\n",
       "      <td>0</td>\n",
       "    </tr>\n",
       "    <tr>\n",
       "      <th>2068</th>\n",
       "      <td>7.591346</td>\n",
       "      <td>199.255322</td>\n",
       "      <td>25383.765183</td>\n",
       "      <td>7.924616</td>\n",
       "      <td>318.610478</td>\n",
       "      <td>416.445617</td>\n",
       "      <td>20.118827</td>\n",
       "      <td>48.271210</td>\n",
       "      <td>4.515150</td>\n",
       "      <td>1</td>\n",
       "    </tr>\n",
       "    <tr>\n",
       "      <th>537</th>\n",
       "      <td>5.057736</td>\n",
       "      <td>137.689344</td>\n",
       "      <td>11229.137777</td>\n",
       "      <td>6.411410</td>\n",
       "      <td>481.030642</td>\n",
       "      <td>580.095225</td>\n",
       "      <td>15.390304</td>\n",
       "      <td>43.882514</td>\n",
       "      <td>3.163936</td>\n",
       "      <td>1</td>\n",
       "    </tr>\n",
       "    <tr>\n",
       "      <th>2572</th>\n",
       "      <td>6.174884</td>\n",
       "      <td>193.027960</td>\n",
       "      <td>23006.242223</td>\n",
       "      <td>8.098312</td>\n",
       "      <td>340.253354</td>\n",
       "      <td>297.112621</td>\n",
       "      <td>13.475158</td>\n",
       "      <td>78.325227</td>\n",
       "      <td>3.623298</td>\n",
       "      <td>0</td>\n",
       "    </tr>\n",
       "  </tbody>\n",
       "</table>\n",
       "<p>1347 rows × 10 columns</p>\n",
       "</div>"
      ],
      "text/plain": [
       "            ph    Hardness        Solids  Chloramines     Sulfate  \\\n",
       "1631  7.703357  211.344687  12861.946542     9.245306  347.630834   \n",
       "1609  5.729303  162.857585  34573.678786     5.654856  415.287072   \n",
       "2824  9.130769  266.744959   9929.194810     6.011964  352.153214   \n",
       "685   8.490572  204.123648  22989.796390     8.270793  358.847115   \n",
       "2692  5.331940  194.874065  16658.876503     7.993830  316.675162   \n",
       "...        ...         ...           ...          ...         ...   \n",
       "2752  6.448931  240.244771  13979.165723     9.077985  314.590477   \n",
       "3115  5.967274  187.085084  30846.585474     7.281106  339.063715   \n",
       "2068  7.591346  199.255322  25383.765183     7.924616  318.610478   \n",
       "537   5.057736  137.689344  11229.137777     6.411410  481.030642   \n",
       "2572  6.174884  193.027960  23006.242223     8.098312  340.253354   \n",
       "\n",
       "      Conductivity  Organic_carbon  Trihalomethanes  Turbidity  Potability  \n",
       "1631    598.662877       10.542342        91.118698   4.732125           0  \n",
       "1609    297.631365       13.990842        76.744677   3.556395           1  \n",
       "2824    542.806782       10.974207        65.782453   4.771444           1  \n",
       "685     435.000898       17.084246        62.421637   3.875557           0  \n",
       "2692    335.120398       10.180514        59.572714   4.434820           0  \n",
       "...            ...             ...              ...        ...         ...  \n",
       "2752    473.751302       17.416903        84.024786   3.622196           1  \n",
       "3115    323.962695       12.651854        72.273590   3.914544           0  \n",
       "2068    416.445617       20.118827        48.271210   4.515150           1  \n",
       "537     580.095225       15.390304        43.882514   3.163936           1  \n",
       "2572    297.112621       13.475158        78.325227   3.623298           0  \n",
       "\n",
       "[1347 rows x 10 columns]"
      ]
     },
     "execution_count": 4,
     "metadata": {},
     "output_type": "execute_result"
    }
   ],
   "source": [
    "from sklearn.model_selection import train_test_split\n",
    "water_data = water.drop('Potability', axis=1)\n",
    "water_label = water.Potability\n",
    "X_train, X_test, y_train, y_test = train_test_split(water_data, water_label, test_size=0.33, stratify=water_label, random_state=0)\n",
    "data = pd.concat([X_train, y_train], axis=1)\n",
    "data"
   ]
  },
  {
   "cell_type": "markdown",
   "metadata": {},
   "source": [
    "<h2>Exploratory Data Analysis</h2>"
   ]
  },
  {
   "cell_type": "code",
   "execution_count": 5,
   "metadata": {},
   "outputs": [
    {
     "data": {
      "text/html": [
       "<div>\n",
       "<style scoped>\n",
       "    .dataframe tbody tr th:only-of-type {\n",
       "        vertical-align: middle;\n",
       "    }\n",
       "\n",
       "    .dataframe tbody tr th {\n",
       "        vertical-align: top;\n",
       "    }\n",
       "\n",
       "    .dataframe thead th {\n",
       "        text-align: right;\n",
       "    }\n",
       "</style>\n",
       "<table border=\"1\" class=\"dataframe\">\n",
       "  <thead>\n",
       "    <tr style=\"text-align: right;\">\n",
       "      <th></th>\n",
       "      <th>ph</th>\n",
       "      <th>Hardness</th>\n",
       "      <th>Solids</th>\n",
       "      <th>Chloramines</th>\n",
       "      <th>Sulfate</th>\n",
       "      <th>Conductivity</th>\n",
       "      <th>Organic_carbon</th>\n",
       "      <th>Trihalomethanes</th>\n",
       "      <th>Turbidity</th>\n",
       "      <th>Potability</th>\n",
       "    </tr>\n",
       "  </thead>\n",
       "  <tbody>\n",
       "    <tr>\n",
       "      <th>count</th>\n",
       "      <td>1347.000000</td>\n",
       "      <td>1347.000000</td>\n",
       "      <td>1347.000000</td>\n",
       "      <td>1347.000000</td>\n",
       "      <td>1347.000000</td>\n",
       "      <td>1347.000000</td>\n",
       "      <td>1347.000000</td>\n",
       "      <td>1347.000000</td>\n",
       "      <td>1347.000000</td>\n",
       "      <td>1347.000000</td>\n",
       "    </tr>\n",
       "    <tr>\n",
       "      <th>mean</th>\n",
       "      <td>7.128429</td>\n",
       "      <td>196.547606</td>\n",
       "      <td>22003.396364</td>\n",
       "      <td>7.154576</td>\n",
       "      <td>334.527595</td>\n",
       "      <td>424.664406</td>\n",
       "      <td>14.365734</td>\n",
       "      <td>66.427064</td>\n",
       "      <td>3.968326</td>\n",
       "      <td>0.403118</td>\n",
       "    </tr>\n",
       "    <tr>\n",
       "      <th>std</th>\n",
       "      <td>1.575365</td>\n",
       "      <td>32.276072</td>\n",
       "      <td>8608.815611</td>\n",
       "      <td>1.577557</td>\n",
       "      <td>41.632853</td>\n",
       "      <td>80.671811</td>\n",
       "      <td>3.314669</td>\n",
       "      <td>15.748282</td>\n",
       "      <td>0.780680</td>\n",
       "      <td>0.490706</td>\n",
       "    </tr>\n",
       "    <tr>\n",
       "      <th>min</th>\n",
       "      <td>0.989912</td>\n",
       "      <td>73.492234</td>\n",
       "      <td>1372.091043</td>\n",
       "      <td>2.456014</td>\n",
       "      <td>129.000000</td>\n",
       "      <td>210.319182</td>\n",
       "      <td>4.466772</td>\n",
       "      <td>8.577013</td>\n",
       "      <td>1.492207</td>\n",
       "      <td>0.000000</td>\n",
       "    </tr>\n",
       "    <tr>\n",
       "      <th>25%</th>\n",
       "      <td>6.114756</td>\n",
       "      <td>177.243077</td>\n",
       "      <td>15665.106976</td>\n",
       "      <td>6.125928</td>\n",
       "      <td>309.532873</td>\n",
       "      <td>365.012636</td>\n",
       "      <td>12.170193</td>\n",
       "      <td>56.969479</td>\n",
       "      <td>3.442485</td>\n",
       "      <td>0.000000</td>\n",
       "    </tr>\n",
       "    <tr>\n",
       "      <th>50%</th>\n",
       "      <td>7.061831</td>\n",
       "      <td>197.374482</td>\n",
       "      <td>21148.241905</td>\n",
       "      <td>7.146140</td>\n",
       "      <td>333.812264</td>\n",
       "      <td>419.304980</td>\n",
       "      <td>14.326638</td>\n",
       "      <td>66.231436</td>\n",
       "      <td>3.962525</td>\n",
       "      <td>0.000000</td>\n",
       "    </tr>\n",
       "    <tr>\n",
       "      <th>75%</th>\n",
       "      <td>8.107168</td>\n",
       "      <td>216.748665</td>\n",
       "      <td>27304.231215</td>\n",
       "      <td>8.133701</td>\n",
       "      <td>360.560273</td>\n",
       "      <td>480.863304</td>\n",
       "      <td>16.720675</td>\n",
       "      <td>77.349886</td>\n",
       "      <td>4.492003</td>\n",
       "      <td>1.000000</td>\n",
       "    </tr>\n",
       "    <tr>\n",
       "      <th>max</th>\n",
       "      <td>14.000000</td>\n",
       "      <td>317.338124</td>\n",
       "      <td>56488.672413</td>\n",
       "      <td>13.043806</td>\n",
       "      <td>481.030642</td>\n",
       "      <td>753.342620</td>\n",
       "      <td>24.755392</td>\n",
       "      <td>116.161622</td>\n",
       "      <td>6.494749</td>\n",
       "      <td>1.000000</td>\n",
       "    </tr>\n",
       "  </tbody>\n",
       "</table>\n",
       "</div>"
      ],
      "text/plain": [
       "                ph     Hardness        Solids  Chloramines      Sulfate  \\\n",
       "count  1347.000000  1347.000000   1347.000000  1347.000000  1347.000000   \n",
       "mean      7.128429   196.547606  22003.396364     7.154576   334.527595   \n",
       "std       1.575365    32.276072   8608.815611     1.577557    41.632853   \n",
       "min       0.989912    73.492234   1372.091043     2.456014   129.000000   \n",
       "25%       6.114756   177.243077  15665.106976     6.125928   309.532873   \n",
       "50%       7.061831   197.374482  21148.241905     7.146140   333.812264   \n",
       "75%       8.107168   216.748665  27304.231215     8.133701   360.560273   \n",
       "max      14.000000   317.338124  56488.672413    13.043806   481.030642   \n",
       "\n",
       "       Conductivity  Organic_carbon  Trihalomethanes    Turbidity   Potability  \n",
       "count   1347.000000     1347.000000      1347.000000  1347.000000  1347.000000  \n",
       "mean     424.664406       14.365734        66.427064     3.968326     0.403118  \n",
       "std       80.671811        3.314669        15.748282     0.780680     0.490706  \n",
       "min      210.319182        4.466772         8.577013     1.492207     0.000000  \n",
       "25%      365.012636       12.170193        56.969479     3.442485     0.000000  \n",
       "50%      419.304980       14.326638        66.231436     3.962525     0.000000  \n",
       "75%      480.863304       16.720675        77.349886     4.492003     1.000000  \n",
       "max      753.342620       24.755392       116.161622     6.494749     1.000000  "
      ]
     },
     "execution_count": 5,
     "metadata": {},
     "output_type": "execute_result"
    }
   ],
   "source": [
    "data.describe()"
   ]
  },
  {
   "cell_type": "markdown",
   "metadata": {},
   "source": [
    "Features are on very different scales"
   ]
  },
  {
   "cell_type": "code",
   "execution_count": 6,
   "metadata": {},
   "outputs": [
    {
     "data": {
      "text/plain": [
       "<matplotlib.patches.Circle at 0x2c7e9953910>"
      ]
     },
     "execution_count": 6,
     "metadata": {},
     "output_type": "execute_result"
    },
    {
     "data": {
      "image/png": "[encoded data removed]",
      "text/plain": [
       "<Figure size 432x288 with 1 Axes>"
      ]
     },
     "metadata": {},
     "output_type": "display_data"
    }
   ],
   "source": [
    "plt.pie(data.Potability.value_counts(), labels=['not potable','potable'], autopct='%.2f')\n",
    "white_circle = plt.Circle( (0,0), 0.7, color='white')\n",
    "plt.gcf().gca().add_artist(white_circle)"
   ]
  },
  {
   "cell_type": "markdown",
   "metadata": {},
   "source": [
    "Class distribution is skewed"
   ]
  },
  {
   "cell_type": "code",
   "execution_count": 7,
   "metadata": {},
   "outputs": [
    {
     "data": {
      "text/plain": [
       "<matplotlib.axes._subplots.AxesSubplot at 0x2c7ea4d9be0>"
      ]
     },
     "execution_count": 7,
     "metadata": {},
     "output_type": "execute_result"
    },
    {
     "data": {
      "image/png": "[encoded data removed]",
      "text/plain": [
       "<Figure size 432x288 with 2 Axes>"
      ]
     },
     "metadata": {},
     "output_type": "display_data"
    }
   ],
   "source": [
    "corr = data.corr()\n",
    "sns.heatmap(corr)"
   ]
  },
  {
   "cell_type": "markdown",
   "metadata": {},
   "source": [
    "Features have bad linear relationships, meaning that linear models won't help much"
   ]
  },
  {
   "cell_type": "markdown",
   "metadata": {},
   "source": [
    "Now we will see how features distribute to per class."
   ]
  },
  {
   "cell_type": "code",
   "execution_count": 8,
   "metadata": {},
   "outputs": [
    {
     "data": {
      "text/plain": [
       "<matplotlib.axes._subplots.AxesSubplot at 0x2c7ea5c54c0>"
      ]
     },
     "execution_count": 8,
     "metadata": {},
     "output_type": "execute_result"
    },
    {
     "data": {
      "image/png": "[encoded data removed]",
      "text/plain": [
       "<Figure size 432x288 with 1 Axes>"
      ]
     },
     "metadata": {},
     "output_type": "display_data"
    }
   ],
   "source": [
    "sns.boxplot(data=data, x='Potability', y='ph')"
   ]
  },
  {
   "cell_type": "code",
   "execution_count": 9,
   "metadata": {},
   "outputs": [
    {
     "data": {
      "text/plain": [
       "<matplotlib.axes._subplots.AxesSubplot at 0x2c7ea63ffa0>"
      ]
     },
     "execution_count": 9,
     "metadata": {},
     "output_type": "execute_result"
    },
    {
     "data": {
      "image/png": "[encoded data removed]",
      "text/plain": [
       "<Figure size 432x288 with 1 Axes>"
      ]
     },
     "metadata": {},
     "output_type": "display_data"
    }
   ],
   "source": [
    "sns.boxplot(data=data, x='Potability', y='Solids')"
   ]
  },
  {
   "cell_type": "code",
   "execution_count": 10,
   "metadata": {},
   "outputs": [
    {
     "data": {
      "text/plain": [
       "<matplotlib.axes._subplots.AxesSubplot at 0x2c7ea63f610>"
      ]
     },
     "execution_count": 10,
     "metadata": {},
     "output_type": "execute_result"
    },
    {
     "data": {
      "image/png": "[encoded data removed]",
      "text/plain": [
       "<Figure size 432x288 with 1 Axes>"
      ]
     },
     "metadata": {},
     "output_type": "display_data"
    }
   ],
   "source": [
    "sns.boxplot(data=data, x='Potability', y='Chloramines')"
   ]
  },
  {
   "cell_type": "code",
   "execution_count": 11,
   "metadata": {},
   "outputs": [
    {
     "data": {
      "text/plain": [
       "<matplotlib.axes._subplots.AxesSubplot at 0x2c7ea7161c0>"
      ]
     },
     "execution_count": 11,
     "metadata": {},
     "output_type": "execute_result"
    },
    {
     "data": {
      "image/png": "[encoded data removed]",
      "text/plain": [
       "<Figure size 432x288 with 1 Axes>"
      ]
     },
     "metadata": {},
     "output_type": "display_data"
    }
   ],
   "source": [
    "sns.boxplot(data=data, x='Potability', y='Sulfate')"
   ]
  },
  {
   "cell_type": "code",
   "execution_count": 12,
   "metadata": {},
   "outputs": [
    {
     "data": {
      "text/plain": [
       "<matplotlib.axes._subplots.AxesSubplot at 0x2c7ea768490>"
      ]
     },
     "execution_count": 12,
     "metadata": {},
     "output_type": "execute_result"
    },
    {
     "data": {
      "image/png": "[encoded data removed]",
      "text/plain": [
       "<Figure size 432x288 with 1 Axes>"
      ]
     },
     "metadata": {},
     "output_type": "display_data"
    }
   ],
   "source": [
    "sns.boxplot(data=data, x='Potability', y='Conductivity')"
   ]
  },
  {
   "cell_type": "code",
   "execution_count": 13,
   "metadata": {},
   "outputs": [
    {
     "data": {
      "text/plain": [
       "<matplotlib.axes._subplots.AxesSubplot at 0x2c7ea7ea0d0>"
      ]
     },
     "execution_count": 13,
     "metadata": {},
     "output_type": "execute_result"
    },
    {
     "data": {
      "image/png": "[encoded data removed]",
      "text/plain": [
       "<Figure size 432x288 with 1 Axes>"
      ]
     },
     "metadata": {},
     "output_type": "display_data"
    }
   ],
   "source": [
    "sns.boxplot(data=data, x='Potability', y='Organic_carbon')"
   ]
  },
  {
   "cell_type": "code",
   "execution_count": 14,
   "metadata": {},
   "outputs": [
    {
     "data": {
      "text/plain": [
       "<matplotlib.axes._subplots.AxesSubplot at 0x2c7ea84b340>"
      ]
     },
     "execution_count": 14,
     "metadata": {},
     "output_type": "execute_result"
    },
    {
     "data": {
      "image/png": "[encoded data removed]",
      "text/plain": [
       "<Figure size 432x288 with 1 Axes>"
      ]
     },
     "metadata": {},
     "output_type": "display_data"
    }
   ],
   "source": [
    "sns.boxplot(data=data, x='Potability', y='Trihalomethanes')"
   ]
  },
  {
   "cell_type": "code",
   "execution_count": 15,
   "metadata": {},
   "outputs": [
    {
     "data": {
      "text/plain": [
       "<matplotlib.axes._subplots.AxesSubplot at 0x2c7ea8af550>"
      ]
     },
     "execution_count": 15,
     "metadata": {},
     "output_type": "execute_result"
    },
    {
     "data": {
      "image/png": "[encoded data removed]",
      "text/plain": [
       "<Figure size 432x288 with 1 Axes>"
      ]
     },
     "metadata": {},
     "output_type": "display_data"
    }
   ],
   "source": [
    "sns.boxplot(data=data, x='Potability', y='Turbidity')"
   ]
  },
  {
   "cell_type": "code",
   "execution_count": 16,
   "metadata": {},
   "outputs": [],
   "source": [
    "#sns.pairplot(data = data, hue='Potability')"
   ]
  },
  {
   "cell_type": "markdown",
   "metadata": {},
   "source": [
    "Differences in plots at the diagonal indicate these features' help to distinguish between classes"
   ]
  },
  {
   "cell_type": "markdown",
   "metadata": {},
   "source": [
    "Before building powerful models, let's see an example to linear models that can't learn this data"
   ]
  },
  {
   "cell_type": "code",
   "execution_count": 20,
   "metadata": {},
   "outputs": [],
   "source": [
    "X_train = data.drop('Potability', axis=1).to_numpy()\n",
    "y_train = data.Potability.to_numpy()"
   ]
  },
  {
   "cell_type": "code",
   "execution_count": 22,
   "metadata": {},
   "outputs": [],
   "source": [
    "from sklearn.linear_model import LogisticRegression\n",
    "logreg = LogisticRegression(max_iter=1000)\n",
    "logreg.fit(X_train, y_train)\n",
    "pred_logreg = logreg.predict(X_test)"
   ]
  },
  {
   "cell_type": "code",
   "execution_count": 23,
   "metadata": {},
   "outputs": [
    {
     "name": "stderr",
     "output_type": "stream",
     "text": [
      "C:\\Users\\tlgru\\anaconda3\\lib\\site-packages\\sklearn\\metrics\\_classification.py:1221: UndefinedMetricWarning: Precision and F-score are ill-defined and being set to 0.0 in labels with no predicted samples. Use `zero_division` parameter to control this behavior.\n",
      "  _warn_prf(average, modifier, msg_start, len(result))\n"
     ]
    },
    {
     "data": {
      "text/html": [
       "<div>\n",
       "<style scoped>\n",
       "    .dataframe tbody tr th:only-of-type {\n",
       "        vertical-align: middle;\n",
       "    }\n",
       "\n",
       "    .dataframe tbody tr th {\n",
       "        vertical-align: top;\n",
       "    }\n",
       "\n",
       "    .dataframe thead th {\n",
       "        text-align: right;\n",
       "    }\n",
       "</style>\n",
       "<table border=\"1\" class=\"dataframe\">\n",
       "  <thead>\n",
       "    <tr style=\"text-align: right;\">\n",
       "      <th></th>\n",
       "      <th>precision</th>\n",
       "      <th>recall</th>\n",
       "      <th>f1-score</th>\n",
       "      <th>support</th>\n",
       "    </tr>\n",
       "  </thead>\n",
       "  <tbody>\n",
       "    <tr>\n",
       "      <th>not-potable</th>\n",
       "      <td>0.596386</td>\n",
       "      <td>1.000000</td>\n",
       "      <td>0.747170</td>\n",
       "      <td>396.000000</td>\n",
       "    </tr>\n",
       "    <tr>\n",
       "      <th>potable</th>\n",
       "      <td>0.000000</td>\n",
       "      <td>0.000000</td>\n",
       "      <td>0.000000</td>\n",
       "      <td>268.000000</td>\n",
       "    </tr>\n",
       "    <tr>\n",
       "      <th>accuracy</th>\n",
       "      <td>0.596386</td>\n",
       "      <td>0.596386</td>\n",
       "      <td>0.596386</td>\n",
       "      <td>0.596386</td>\n",
       "    </tr>\n",
       "    <tr>\n",
       "      <th>macro avg</th>\n",
       "      <td>0.298193</td>\n",
       "      <td>0.500000</td>\n",
       "      <td>0.373585</td>\n",
       "      <td>664.000000</td>\n",
       "    </tr>\n",
       "    <tr>\n",
       "      <th>weighted avg</th>\n",
       "      <td>0.355676</td>\n",
       "      <td>0.596386</td>\n",
       "      <td>0.445601</td>\n",
       "      <td>664.000000</td>\n",
       "    </tr>\n",
       "  </tbody>\n",
       "</table>\n",
       "</div>"
      ],
      "text/plain": [
       "              precision    recall  f1-score     support\n",
       "not-potable    0.596386  1.000000  0.747170  396.000000\n",
       "potable        0.000000  0.000000  0.000000  268.000000\n",
       "accuracy       0.596386  0.596386  0.596386    0.596386\n",
       "macro avg      0.298193  0.500000  0.373585  664.000000\n",
       "weighted avg   0.355676  0.596386  0.445601  664.000000"
      ]
     },
     "execution_count": 23,
     "metadata": {},
     "output_type": "execute_result"
    }
   ],
   "source": [
    "from sklearn.metrics import classification_report, f1_score\n",
    "cr_logreg = classification_report(y_test, pred_logreg, target_names=['not-potable','potable'], output_dict=True)\n",
    "cr_logreg_dataframe = pd.DataFrame(cr_logreg).transpose()\n",
    "cr_logreg_dataframe"
   ]
  },
  {
   "cell_type": "markdown",
   "metadata": {},
   "source": [
    "<h2>Building Models & Hyper-parameter Tuning</h2>"
   ]
  },
  {
   "cell_type": "markdown",
   "metadata": {},
   "source": [
    "<h3>Random Forest</h3>"
   ]
  },
  {
   "cell_type": "markdown",
   "metadata": {},
   "source": [
    "Random forest doesn't need scaling of the data"
   ]
  },
  {
   "cell_type": "code",
   "execution_count": 24,
   "metadata": {},
   "outputs": [
    {
     "data": {
      "text/plain": [
       "GridSearchCV(estimator=RandomForestClassifier(),\n",
       "             param_grid={'max_features': ['auto', 'sqrt', 'log2'],\n",
       "                         'n_estimators': [100, 300, 1000]})"
      ]
     },
     "execution_count": 24,
     "metadata": {},
     "output_type": "execute_result"
    }
   ],
   "source": [
    "from sklearn.ensemble import RandomForestClassifier\n",
    "from sklearn.model_selection import GridSearchCV\n",
    "param_grid_rf = {'max_features': ['auto','sqrt','log2'], 'n_estimators': [100, 300, 1000]}\n",
    "grid_rf = GridSearchCV(RandomForestClassifier(), param_grid_rf)\n",
    "grid_rf.fit(X_train, y_train)"
   ]
  },
  {
   "cell_type": "markdown",
   "metadata": {},
   "source": [
    "Retrained model:"
   ]
  },
  {
   "cell_type": "code",
   "execution_count": 25,
   "metadata": {},
   "outputs": [],
   "source": [
    "optimised_rf = grid_rf.best_estimator_"
   ]
  },
  {
   "cell_type": "markdown",
   "metadata": {},
   "source": [
    "Final evaluation: Classification report for optimised random forest:"
   ]
  },
  {
   "cell_type": "code",
   "execution_count": 26,
   "metadata": {},
   "outputs": [
    {
     "data": {
      "text/html": [
       "<div>\n",
       "<style scoped>\n",
       "    .dataframe tbody tr th:only-of-type {\n",
       "        vertical-align: middle;\n",
       "    }\n",
       "\n",
       "    .dataframe tbody tr th {\n",
       "        vertical-align: top;\n",
       "    }\n",
       "\n",
       "    .dataframe thead th {\n",
       "        text-align: right;\n",
       "    }\n",
       "</style>\n",
       "<table border=\"1\" class=\"dataframe\">\n",
       "  <thead>\n",
       "    <tr style=\"text-align: right;\">\n",
       "      <th></th>\n",
       "      <th>precision</th>\n",
       "      <th>recall</th>\n",
       "      <th>f1-score</th>\n",
       "      <th>support</th>\n",
       "    </tr>\n",
       "  </thead>\n",
       "  <tbody>\n",
       "    <tr>\n",
       "      <th>not potable</th>\n",
       "      <td>0.682261</td>\n",
       "      <td>0.883838</td>\n",
       "      <td>0.770077</td>\n",
       "      <td>396.000000</td>\n",
       "    </tr>\n",
       "    <tr>\n",
       "      <th>potable</th>\n",
       "      <td>0.695364</td>\n",
       "      <td>0.391791</td>\n",
       "      <td>0.501193</td>\n",
       "      <td>268.000000</td>\n",
       "    </tr>\n",
       "    <tr>\n",
       "      <th>accuracy</th>\n",
       "      <td>0.685241</td>\n",
       "      <td>0.685241</td>\n",
       "      <td>0.685241</td>\n",
       "      <td>0.685241</td>\n",
       "    </tr>\n",
       "    <tr>\n",
       "      <th>macro avg</th>\n",
       "      <td>0.688813</td>\n",
       "      <td>0.637815</td>\n",
       "      <td>0.635635</td>\n",
       "      <td>664.000000</td>\n",
       "    </tr>\n",
       "    <tr>\n",
       "      <th>weighted avg</th>\n",
       "      <td>0.687550</td>\n",
       "      <td>0.685241</td>\n",
       "      <td>0.661552</td>\n",
       "      <td>664.000000</td>\n",
       "    </tr>\n",
       "  </tbody>\n",
       "</table>\n",
       "</div>"
      ],
      "text/plain": [
       "              precision    recall  f1-score     support\n",
       "not potable    0.682261  0.883838  0.770077  396.000000\n",
       "potable        0.695364  0.391791  0.501193  268.000000\n",
       "accuracy       0.685241  0.685241  0.685241    0.685241\n",
       "macro avg      0.688813  0.637815  0.635635  664.000000\n",
       "weighted avg   0.687550  0.685241  0.661552  664.000000"
      ]
     },
     "execution_count": 26,
     "metadata": {},
     "output_type": "execute_result"
    }
   ],
   "source": [
    "pred_optimised_rf = optimised_rf.predict(X_test)\n",
    "cr_optimised_rf = classification_report(y_test, pred_optimised_rf, target_names = ['not potable','potable'], output_dict = True)\n",
    "cr_optimised_rf_dataframe = pd.DataFrame(cr_optimised_rf).transpose()\n",
    "cr_optimised_rf_dataframe"
   ]
  },
  {
   "cell_type": "markdown",
   "metadata": {},
   "source": [
    "<h3>Support Vector Machine</h3>"
   ]
  },
  {
   "cell_type": "code",
   "execution_count": 27,
   "metadata": {},
   "outputs": [],
   "source": [
    "from sklearn.svm import SVC\n",
    "from sklearn.pipeline import Pipeline\n",
    "from sklearn.preprocessing import MinMaxScaler"
   ]
  },
  {
   "cell_type": "markdown",
   "metadata": {},
   "source": [
    "We will handle preprocessing with a pipeline"
   ]
  },
  {
   "cell_type": "code",
   "execution_count": 28,
   "metadata": {},
   "outputs": [],
   "source": [
    "pipe_svm = Pipeline([('scaler', MinMaxScaler()), ('svm', SVC())])\n",
    "param_grid_svm = {'svm__C': [0.001, 0.01, 0.1, 1, 10, 100], 'svm__gamma': [0.001, 0.01, 0.1, 1, 10, 100]}"
   ]
  },
  {
   "cell_type": "code",
   "execution_count": 29,
   "metadata": {},
   "outputs": [
    {
     "data": {
      "text/plain": [
       "GridSearchCV(estimator=Pipeline(steps=[('scaler', MinMaxScaler()),\n",
       "                                       ('svm', SVC())]),\n",
       "             param_grid={'svm__C': [0.001, 0.01, 0.1, 1, 10, 100],\n",
       "                         'svm__gamma': [0.001, 0.01, 0.1, 1, 10, 100]})"
      ]
     },
     "execution_count": 29,
     "metadata": {},
     "output_type": "execute_result"
    }
   ],
   "source": [
    "grid_svm = GridSearchCV(pipe_svm, param_grid_svm)\n",
    "grid_svm.fit(X_train, y_train)"
   ]
  },
  {
   "cell_type": "markdown",
   "metadata": {},
   "source": [
    "Now, extracting retrained model and evaluating model with test set"
   ]
  },
  {
   "cell_type": "code",
   "execution_count": 30,
   "metadata": {},
   "outputs": [
    {
     "data": {
      "text/plain": [
       "{'svm__C': 10, 'svm__gamma': 1}"
      ]
     },
     "execution_count": 30,
     "metadata": {},
     "output_type": "execute_result"
    }
   ],
   "source": [
    "grid_svm.best_params_"
   ]
  },
  {
   "cell_type": "markdown",
   "metadata": {},
   "source": [
    "optimised_svm below is a pipeline, thus it'll scale X_test and then fit the estimator"
   ]
  },
  {
   "cell_type": "code",
   "execution_count": 31,
   "metadata": {},
   "outputs": [
    {
     "data": {
      "text/html": [
       "<div>\n",
       "<style scoped>\n",
       "    .dataframe tbody tr th:only-of-type {\n",
       "        vertical-align: middle;\n",
       "    }\n",
       "\n",
       "    .dataframe tbody tr th {\n",
       "        vertical-align: top;\n",
       "    }\n",
       "\n",
       "    .dataframe thead th {\n",
       "        text-align: right;\n",
       "    }\n",
       "</style>\n",
       "<table border=\"1\" class=\"dataframe\">\n",
       "  <thead>\n",
       "    <tr style=\"text-align: right;\">\n",
       "      <th></th>\n",
       "      <th>precision</th>\n",
       "      <th>recall</th>\n",
       "      <th>f1-score</th>\n",
       "      <th>support</th>\n",
       "    </tr>\n",
       "  </thead>\n",
       "  <tbody>\n",
       "    <tr>\n",
       "      <th>not potable</th>\n",
       "      <td>0.663082</td>\n",
       "      <td>0.934343</td>\n",
       "      <td>0.775681</td>\n",
       "      <td>396.000000</td>\n",
       "    </tr>\n",
       "    <tr>\n",
       "      <th>potable</th>\n",
       "      <td>0.754717</td>\n",
       "      <td>0.298507</td>\n",
       "      <td>0.427807</td>\n",
       "      <td>268.000000</td>\n",
       "    </tr>\n",
       "    <tr>\n",
       "      <th>accuracy</th>\n",
       "      <td>0.677711</td>\n",
       "      <td>0.677711</td>\n",
       "      <td>0.677711</td>\n",
       "      <td>0.677711</td>\n",
       "    </tr>\n",
       "    <tr>\n",
       "      <th>macro avg</th>\n",
       "      <td>0.708900</td>\n",
       "      <td>0.616425</td>\n",
       "      <td>0.601744</td>\n",
       "      <td>664.000000</td>\n",
       "    </tr>\n",
       "    <tr>\n",
       "      <th>weighted avg</th>\n",
       "      <td>0.700067</td>\n",
       "      <td>0.677711</td>\n",
       "      <td>0.635274</td>\n",
       "      <td>664.000000</td>\n",
       "    </tr>\n",
       "  </tbody>\n",
       "</table>\n",
       "</div>"
      ],
      "text/plain": [
       "              precision    recall  f1-score     support\n",
       "not potable    0.663082  0.934343  0.775681  396.000000\n",
       "potable        0.754717  0.298507  0.427807  268.000000\n",
       "accuracy       0.677711  0.677711  0.677711    0.677711\n",
       "macro avg      0.708900  0.616425  0.601744  664.000000\n",
       "weighted avg   0.700067  0.677711  0.635274  664.000000"
      ]
     },
     "execution_count": 31,
     "metadata": {},
     "output_type": "execute_result"
    }
   ],
   "source": [
    "optimised_svm = grid_svm.best_estimator_\n",
    "pred_optimised_svm = optimised_svm.predict(X_test)\n",
    "cr_optimised_svm = classification_report(y_test, pred_optimised_svm, target_names = ['not potable','potable'],\n",
    "                                         output_dict = True)\n",
    "cr_optimised_svm_dataframe = pd.DataFrame(cr_optimised_svm).transpose()\n",
    "cr_optimised_svm_dataframe"
   ]
  },
  {
   "cell_type": "code",
   "execution_count": 32,
   "metadata": {},
   "outputs": [
    {
     "data": {
      "text/plain": [
       "array([0, 0, 0, 0, 0, 0, 0, 1, 0, 0, 0, 0, 0, 0, 0, 0, 0, 0, 0, 0, 0, 1,\n",
       "       0, 0, 0, 0, 0, 0, 0, 0, 0, 0, 1, 0, 0, 0, 1, 0, 0, 0, 1, 1, 0, 1,\n",
       "       1, 0, 0, 0, 0, 0, 0, 0, 0, 0, 0, 0, 0, 0, 0, 0, 0, 0, 0, 0, 0, 0,\n",
       "       0, 0, 0, 1, 0, 0, 1, 0, 1, 0, 0, 0, 1, 0, 0, 0, 0, 0, 0, 0, 0, 0,\n",
       "       0, 0, 0, 0, 0, 1, 0, 0, 0, 0, 0, 0, 0, 0, 0, 0, 0, 0, 0, 0, 0, 0,\n",
       "       0, 0, 1, 0, 0, 0, 0, 0, 0, 0, 0, 0, 0, 1, 0, 0, 0, 0, 0, 0, 0, 0,\n",
       "       0, 0, 0, 0, 0, 0, 0, 0, 0, 1, 0, 0, 0, 1, 0, 0, 0, 0, 0, 0, 1, 1,\n",
       "       0, 0, 1, 0, 0, 0, 0, 0, 0, 0, 0, 0, 0, 0, 0, 0, 1, 1, 0, 1, 0, 0,\n",
       "       1, 0, 0, 0, 0, 0, 1, 0, 0, 0, 0, 1, 1, 0, 0, 0, 0, 0, 0, 0, 0, 0,\n",
       "       0, 0, 0, 0, 0, 0, 0, 0, 0, 0, 0, 1, 0, 0, 0, 0, 0, 0, 0, 0, 0, 0,\n",
       "       0, 1, 0, 0, 1, 0, 0, 0, 0, 1, 0, 1, 0, 1, 1, 0, 0, 0, 0, 0, 0, 0,\n",
       "       0, 1, 0, 0, 1, 0, 0, 0, 0, 1, 0, 0, 0, 0, 1, 0, 0, 1, 0, 0, 1, 0,\n",
       "       0, 0, 0, 0, 0, 1, 0, 0, 0, 0, 0, 0, 0, 1, 1, 0, 0, 0, 0, 0, 0, 0,\n",
       "       1, 0, 0, 0, 1, 1, 0, 1, 0, 0, 0, 0, 0, 1, 0, 0, 0, 0, 0, 0, 0, 0,\n",
       "       0, 1, 0, 0, 0, 0, 1, 0, 0, 0, 0, 0, 0, 0, 1, 0, 0, 0, 0, 1, 0, 1,\n",
       "       0, 0, 0, 0, 0, 1, 1, 0, 0, 0, 0, 0, 0, 0, 0, 1, 0, 0, 0, 0, 0, 0,\n",
       "       0, 0, 0, 0, 0, 0, 0, 0, 0, 0, 1, 0, 0, 0, 0, 0, 0, 0, 0, 0, 0, 0,\n",
       "       0, 1, 0, 0, 0, 0, 0, 0, 1, 0, 0, 0, 0, 0, 0, 1, 1, 0, 1, 0, 0, 0,\n",
       "       0, 0, 0, 0, 0, 0, 0, 0, 0, 0, 1, 0, 0, 0, 0, 1, 0, 0, 1, 0, 0, 1,\n",
       "       1, 0, 0, 0, 0, 0, 0, 0, 0, 1, 0, 1, 0, 0, 0, 0, 0, 0, 0, 0, 0, 0,\n",
       "       0, 0, 0, 0, 0, 1, 0, 0, 0, 0, 0, 0, 0, 0, 0, 1, 0, 0, 1, 0, 0, 1,\n",
       "       0, 0, 0, 0, 0, 0, 1, 1, 0, 0, 0, 0, 0, 0, 0, 1, 0, 0, 0, 0, 0, 0,\n",
       "       0, 0, 0, 0, 0, 0, 0, 0, 0, 0, 0, 0, 0, 0, 0, 0, 0, 0, 1, 0, 0, 0,\n",
       "       0, 0, 0, 0, 0, 0, 1, 0, 0, 0, 0, 1, 0, 0, 0, 0, 0, 0, 0, 0, 0, 0,\n",
       "       1, 0, 1, 0, 0, 0, 0, 0, 0, 0, 0, 0, 1, 0, 0, 0, 0, 0, 0, 0, 1, 1,\n",
       "       0, 0, 0, 1, 1, 0, 1, 0, 1, 0, 0, 0, 0, 1, 0, 0, 0, 0, 0, 0, 0, 0,\n",
       "       0, 0, 0, 0, 0, 0, 1, 1, 0, 1, 0, 0, 0, 0, 0, 0, 0, 0, 0, 0, 1, 0,\n",
       "       0, 0, 0, 0, 1, 0, 1, 0, 1, 0, 0, 0, 0, 0, 0, 0, 0, 0, 0, 1, 0, 0,\n",
       "       1, 1, 0, 0, 0, 0, 0, 1, 0, 0, 1, 0, 0, 0, 0, 0, 0, 0, 1, 0, 0, 0,\n",
       "       0, 0, 0, 0, 0, 0, 1, 0, 0, 0, 0, 0, 1, 0, 0, 0, 0, 0, 1, 0, 0, 0,\n",
       "       1, 0, 0, 0], dtype=int64)"
      ]
     },
     "execution_count": 32,
     "metadata": {},
     "output_type": "execute_result"
    }
   ],
   "source": [
    "pred_optimised_svm"
   ]
  }
 ],
 "metadata": {
  "kernelspec": {
   "display_name": "Python 3",
   "language": "python",
   "name": "python3"
  },
  "language_info": {
   "codemirror_mode": {
    "name": "ipython",
    "version": 3
   },
   "file_extension": ".py",
   "mimetype": "text/x-python",
   "name": "python",
   "nbconvert_exporter": "python",
   "pygments_lexer": "ipython3",
   "version": "3.8.3"
  }
 },
 "nbformat": 4,
 "nbformat_minor": 4
}
